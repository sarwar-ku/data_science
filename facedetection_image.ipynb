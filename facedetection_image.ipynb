{
 "cells": [
  {
   "cell_type": "code",
   "execution_count": null,
   "id": "6378a279",
   "metadata": {},
   "outputs": [],
   "source": [
    "\n",
    "\"\"\"\n",
    "Face and eye detection using opencv (Haar Cascade classificaion)\n",
    "\n",
    "Download face and eye models:\n",
    "Go to these links, click on RAW and save as... otherwise you'd be saving html files of Github page. '\n",
    "    https://github.com/Itseez/opencv/blob/master/data/haarcascades/haarcascade_frontalface_default.xml\n",
    "    https://github.com/Itseez/opencv/blob/master/data/haarcascades/haarcascade_eye.xml\n",
    "    \n",
    "\"\"\"\n",
    "\n",
    "#Verify on static image\n",
    "\n",
    "import numpy as np\n",
    "import cv2\n",
    "import tensorflow\n",
    "\n",
    "\n",
    "face_cascade = cv2.CascadeClassifier('otherfiles/haarcascade_frontalface_default.xml')\n",
    "eye_cascade = cv2.CascadeClassifier('otherfiles/haarcascade_eye.xml')\n",
    "\n",
    "img = cv2.imread('images\\obama.jpeg')\n",
    "gray = cv2.cvtColor(img, cv2.COLOR_BGR2GRAY)\n",
    "\n",
    "#First detect face and then look for eyes inside the face.\n",
    "#Multiscale refers to detecting objects (faces) at multiple scales. \n",
    "faces = face_cascade.detectMultiScale(gray, 1.3, 5) #scaleFactor = 1.3, minNeighbors = 3\n",
    "#Above faces returns a list of rectangles. For Obama image we only have 1 face\n",
    "#so it return a tuplr of (1,4) --> 1 represents one rectangle and 4 represents\n",
    "#the x,y,w,h values that define the square.\n",
    "\n",
    "#Obamas image with both barack and Michelle it returns a tuple of (2,4) --> 2 faces.\n",
    "\n",
    "#For each detected face now detect eyes. \n",
    "#For emotion detection this is where we update code to identify facial emotion\n",
    "for (x,y,w,h) in faces:\n",
    "    img = cv2.rectangle(img,(x,y),(x+w,y+h),(255,0,0),2)   #Draw red bounding box around the face\n",
    "    roi_gray = gray[y:y+h, x:x+w] #Original gray image but only the detected face part\n",
    "    roi_color = img[y:y+h, x:x+w] #Original color image but only the detected face part. For display purposes\n",
    "    eyes = eye_cascade.detectMultiScale(roi_gray) #Use the gray face image to detect eyes\n",
    "    for (ex,ey,ew,eh) in eyes:\n",
    "        cv2.rectangle(roi_color,(ex,ey),(ex+ew,ey+eh),(0,255,0),2) #Draw green bounding boxes around the eyes\n",
    "\n",
    "cv2.imshow('img', img)\n",
    "cv2.waitKey(0)\n",
    "cv2.destroyAllWindows()\n",
    "\n",
    "\n",
    "########################################################\n",
    "\n"
   ]
  }
 ],
 "metadata": {
  "kernelspec": {
   "display_name": "Python (myenv)",
   "language": "python",
   "name": "myenv"
  },
  "language_info": {
   "codemirror_mode": {
    "name": "ipython",
    "version": 3
   },
   "file_extension": ".py",
   "mimetype": "text/x-python",
   "name": "python",
   "nbconvert_exporter": "python",
   "pygments_lexer": "ipython3",
   "version": "3.9.13"
  }
 },
 "nbformat": 4,
 "nbformat_minor": 5
}

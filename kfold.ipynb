{
  "nbformat": 4,
  "nbformat_minor": 0,
  "metadata": {
    "colab": {
      "provenance": [],
      "authorship_tag": "ABX9TyNpexJazloXmaDvIou/2uFP",
      "include_colab_link": true
    },
    "kernelspec": {
      "name": "python3",
      "display_name": "Python 3"
    },
    "language_info": {
      "name": "python"
    }
  },
  "cells": [
    {
      "cell_type": "markdown",
      "metadata": {
        "id": "view-in-github",
        "colab_type": "text"
      },
      "source": [
        "<a href=\"https://colab.research.google.com/github/sarwar-ku/data_science/blob/main/kfold.ipynb\" target=\"_parent\"><img src=\"https://colab.research.google.com/assets/colab-badge.svg\" alt=\"Open In Colab\"/></a>"
      ]
    },
    {
      "cell_type": "code",
      "execution_count": 1,
      "metadata": {
        "colab": {
          "base_uri": "https://localhost:8080/"
        },
        "id": "9ea9QhpjQRaH",
        "outputId": "70da2467-c05b-4e34-8c66-93ce9eb936fd"
      },
      "outputs": [
        {
          "output_type": "stream",
          "name": "stdout",
          "text": [
            "Colab only includes TensorFlow 2.x; %tensorflow_version has no effect.\n",
            "Note: using Google CoLab\n"
          ]
        }
      ],
      "source": [
        "import os\n",
        "os.environ['TF_CPP_MIN_LOG_LEVEL'] = '3'\n",
        "\n",
        "try:\n",
        "    %tensorflow_version 2.x\n",
        "    COLAB = True\n",
        "    print(\"Note: using Google CoLab\")\n",
        "except:\n",
        "    print(\"Note: not using Google CoLab\")\n",
        "    COLAB = False"
      ]
    },
    {
      "cell_type": "code",
      "source": [
        "import pandas as pd\n",
        "from scipy.stats import zscore\n",
        "from sklearn.model_selection import train_test_split\n",
        "\n",
        "# Read the data set\n",
        "df = pd.read_csv(\n",
        "    \"https://data.heatonresearch.com/data/t81-558/jh-simple-dataset.csv\",\n",
        "    na_values=['NA','?'])\n",
        "\n",
        "# Generate dummies for job\n",
        "df = pd.concat([df,pd.get_dummies(df['job'],prefix=\"job\")],axis=1)\n",
        "df.drop('job', axis=1, inplace=True)\n",
        "\n",
        "# Generate dummies for area\n",
        "df = pd.concat([df,pd.get_dummies(df['area'],prefix=\"area\")],axis=1)\n",
        "df.drop('area', axis=1, inplace=True)\n",
        "\n",
        "# Generate dummies for product\n",
        "df = pd.concat([df,pd.get_dummies(df['product'],prefix=\"product\")],axis=1)\n",
        "df.drop('product', axis=1, inplace=True)\n",
        "\n",
        "# Missing values for income\n",
        "med = df['income'].median()\n",
        "df['income'] = df['income'].fillna(med)\n",
        "\n",
        "# Standardize ranges\n",
        "df['income'] = zscore(df['income'])\n",
        "df['aspect'] = zscore(df['aspect'])\n",
        "df['save_rate'] = zscore(df['save_rate'])\n",
        "df['subscriptions'] = zscore(df['subscriptions'])\n",
        "\n",
        "# Convert to numpy - Classification\n",
        "x_columns = df.columns.drop('age').drop('id')\n",
        "x = df[x_columns].values\n",
        "y = df['age'].values"
      ],
      "metadata": {
        "id": "tH0U0i-eQWfu"
      },
      "execution_count": 2,
      "outputs": []
    },
    {
      "cell_type": "code",
      "source": [
        "!pip uninstall tensorflow"
      ],
      "metadata": {
        "colab": {
          "base_uri": "https://localhost:8080/"
        },
        "id": "OZaaFoT0QqV6",
        "outputId": "62695ed1-9e3b-452f-ed23-1c30ef1d3a45"
      },
      "execution_count": 11,
      "outputs": [
        {
          "output_type": "stream",
          "name": "stdout",
          "text": [
            "Found existing installation: tensorflow 2.15.0\n",
            "Uninstalling tensorflow-2.15.0:\n",
            "  Would remove:\n",
            "    /usr/local/bin/estimator_ckpt_converter\n",
            "    /usr/local/bin/import_pb_to_tensorboard\n",
            "    /usr/local/bin/saved_model_cli\n",
            "    /usr/local/bin/tensorboard\n",
            "    /usr/local/bin/tf_upgrade_v2\n",
            "    /usr/local/bin/tflite_convert\n",
            "    /usr/local/bin/toco\n",
            "    /usr/local/bin/toco_from_protos\n",
            "    /usr/local/lib/python3.10/dist-packages/tensorflow-2.15.0.dist-info/*\n",
            "    /usr/local/lib/python3.10/dist-packages/tensorflow/*\n",
            "Proceed (Y/n)? n\n"
          ]
        }
      ]
    },
    {
      "cell_type": "code",
      "source": [
        "EPOCHS=500\n",
        "\n",
        "import pandas as pd\n",
        "import os\n",
        "import numpy as np\n",
        "from sklearn import metrics\n",
        "from scipy.stats import zscore\n",
        "from sklearn.model_selection import KFold\n",
        "from tensorflow.keras.models import Sequential\n",
        "from tensorflow.keras.layers import Dense, Activation\n",
        "\n",
        "# Cross-Validate\n",
        "kf = KFold(5, shuffle=True, random_state=42) # Use for KFold classification\n",
        "oos_y = []\n",
        "oos_pred = []\n",
        "\n",
        "fold = 0\n",
        "for train, test in kf.split(x):\n",
        "    fold+=1\n",
        "    print(f\"Fold #{fold}\")\n",
        "\n",
        "    x_train = x[train]\n",
        "    y_train = y[train]\n",
        "    x_test = x[test]\n",
        "    y_test = y[test]\n",
        "\n",
        "    model = Sequential()\n",
        "    model.add(Dense(20, input_dim=x.shape[1], activation='relu'))\n",
        "    model.add(Dense(10, activation='relu'))\n",
        "    model.add(Dense(1))\n",
        "    model.compile(loss='mean_squared_error', optimizer='adam')\n",
        "\n",
        "    model.fit(np.array(x_train).astype('float32'),np.array(y_train).astype('float32'),validation_data=(np.array(x_test).astype('float32'),np.array(y_test).astype('float32')),verbose=0,\n",
        "              epochs=EPOCHS)\n",
        "\n",
        "    pred = model.predict(np.array(x_test).astype('float32'))\n",
        "\n",
        "    oos_y.append(np.array(y_test).astype('float32'))\n",
        "    oos_pred.append(pred)\n",
        "\n",
        "    # Measure this fold's RMSE\n",
        "    score = np.sqrt(metrics.mean_squared_error(pred,np.array(y_test).astype('float32')))\n",
        "    print(f\"Fold score (RMSE): {score}\")\n",
        "\n",
        "# Build the oos prediction list and calculate the error.\n",
        "oos_y = np.concatenate(oos_y)\n",
        "oos_pred = np.concatenate(oos_pred)\n",
        "score = np.sqrt(metrics.mean_squared_error(oos_pred,oos_y))\n",
        "print(f\"Final, out of sample score (RMSE): {score}\")\n",
        "\n",
        "# Write the cross-validated prediction\n",
        "oos_y = pd.DataFrame(oos_y)\n",
        "oos_pred = pd.DataFrame(oos_pred)\n",
        "oosDF = pd.concat( [df, oos_y, oos_pred],axis=1 )\n",
        "#oosDF.to_csv(filename_write,index=False)"
      ],
      "metadata": {
        "colab": {
          "base_uri": "https://localhost:8080/"
        },
        "id": "Y1M-0wm-Qe6-",
        "outputId": "31bd71bd-20ec-42bf-9db9-ae0aeab03fd7"
      },
      "execution_count": 18,
      "outputs": [
        {
          "output_type": "stream",
          "name": "stdout",
          "text": [
            "Fold #1\n",
            "13/13 [==============================] - 0s 2ms/step\n",
            "Fold score (RMSE): 0.6175551414489746\n",
            "Fold #2\n",
            "13/13 [==============================] - 0s 2ms/step\n",
            "Fold score (RMSE): 0.5565299987792969\n",
            "Fold #3\n",
            "13/13 [==============================] - 0s 2ms/step\n",
            "Fold score (RMSE): 0.6802557110786438\n",
            "Fold #4\n",
            "13/13 [==============================] - 0s 3ms/step\n",
            "Fold score (RMSE): 0.541950523853302\n",
            "Fold #5\n",
            "13/13 [==============================] - 0s 2ms/step\n",
            "Fold score (RMSE): 1.0106407403945923\n",
            "Final, out of sample score (RMSE): 0.7027023434638977\n"
          ]
        }
      ]
    },
    {
      "cell_type": "code",
      "source": [
        "import pandas as pd\n",
        "from scipy.stats import zscore\n",
        "\n",
        "# Read the data set\n",
        "df = pd.read_csv(\n",
        "    \"https://data.heatonresearch.com/data/t81-558/jh-simple-dataset.csv\",\n",
        "    na_values=['NA','?'])\n",
        "\n",
        "# Generate dummies for job\n",
        "df = pd.concat([df,pd.get_dummies(df['job'],prefix=\"job\")],axis=1)\n",
        "df.drop('job', axis=1, inplace=True)\n",
        "\n",
        "# Generate dummies for area\n",
        "df = pd.concat([df,pd.get_dummies(df['area'],prefix=\"area\")],axis=1)\n",
        "df.drop('area', axis=1, inplace=True)\n",
        "\n",
        "# Missing values for income\n",
        "med = df['income'].median()\n",
        "df['income'] = df['income'].fillna(med)\n",
        "\n",
        "# Standardize ranges\n",
        "df['income'] = zscore(df['income'])\n",
        "df['aspect'] = zscore(df['aspect'])\n",
        "df['save_rate'] = zscore(df['save_rate'])\n",
        "df['age'] = zscore(df['age'])\n",
        "df['subscriptions'] = zscore(df['subscriptions'])\n",
        "\n",
        "# Convert to numpy - Classification\n",
        "x_columns = df.columns.drop('product').drop('id')\n",
        "x = df[x_columns].values\n",
        "dummies = pd.get_dummies(df['product']) # Classification\n",
        "products = dummies.columns\n",
        "y = dummies.values"
      ],
      "metadata": {
        "id": "41UAxOWzQj3I"
      },
      "execution_count": 19,
      "outputs": []
    },
    {
      "cell_type": "code",
      "source": [
        "import pandas as pd\n",
        "import os\n",
        "import numpy as np\n",
        "from sklearn import metrics\n",
        "from sklearn.model_selection import StratifiedKFold\n",
        "from tensorflow.keras.models import Sequential\n",
        "from tensorflow.keras.layers import Dense, Activation\n",
        "\n",
        "# np.argmax(pred,axis=1)\n",
        "# Cross-validate\n",
        "# Use for StratifiedKFold classification\n",
        "kf = StratifiedKFold(5, shuffle=True, random_state=42)\n",
        "\n",
        "oos_y = []\n",
        "oos_pred = []\n",
        "fold = 0\n",
        "\n",
        "# Must specify y StratifiedKFold for\n",
        "for train, test in kf.split(x,df['product']):\n",
        "    fold+=1\n",
        "    print(f\"Fold #{fold}\")\n",
        "\n",
        "    x_train = x[train]\n",
        "    y_train = y[train]\n",
        "    x_test = x[test]\n",
        "    y_test = y[test]\n",
        "\n",
        "    model = Sequential()\n",
        "    # Hidden 1\n",
        "    model.add(Dense(50, input_dim=x.shape[1], activation='relu'))\n",
        "    model.add(Dense(25, activation='relu')) # Hidden 2\n",
        "    model.add(Dense(y.shape[1],activation='softmax')) # Output\n",
        "    model.compile(loss='categorical_crossentropy', optimizer='adam')\n",
        "\n",
        "    model.fit(np.array(x_train).astype('float32'),np.array(y_train).astype('float32'),validation_data=(np.array(x_test).astype('float32'),np.array(y_test).astype('float32')),verbose=0,\n",
        "              epochs=EPOCHS)\n",
        "    pred = model.predict(np.array(x_test).astype('float'))\n",
        "\n",
        "    oos_y.append(np.array(y_test).astype('float32'))\n",
        "    # raw probabilities to chosen class (highest probability)\n",
        "    pred = np.argmax(pred,axis=1)\n",
        "    oos_pred.append(pred)\n",
        "\n",
        "    # Measure this fold's accuracy\n",
        "    y_compare = np.argmax(np.array(y_test).astype('float32'),axis=1) # For accuracy calculation\n",
        "    score = metrics.accuracy_score(y_compare, pred)\n",
        "    print(f\"Fold score (accuracy): {score}\")\n",
        "\n",
        "# Build the oos prediction list and calculate the error.\n",
        "oos_y = np.concatenate(oos_y)\n",
        "oos_pred = np.concatenate(oos_pred)\n",
        "oos_y_compare = np.argmax(oos_y,axis=1) # For accuracy calculation\n",
        "\n",
        "score = metrics.accuracy_score(oos_y_compare, oos_pred)\n",
        "print(f\"Final score (accuracy): {score}\")\n",
        "\n",
        "# Write the cross-validated prediction\n",
        "oos_y = pd.DataFrame(oos_y)\n",
        "oos_pred = pd.DataFrame(oos_pred)\n",
        "oosDF = pd.concat( [df, oos_y, oos_pred],axis=1 )\n",
        "#oosDF.to_csv(filename_write,index=False)"
      ],
      "metadata": {
        "colab": {
          "base_uri": "https://localhost:8080/"
        },
        "id": "5a-wc7DsV9l2",
        "outputId": "085566fd-eead-48a8-b4ec-6a7fe4dd9d84"
      },
      "execution_count": 22,
      "outputs": [
        {
          "output_type": "stream",
          "name": "stdout",
          "text": [
            "Fold #1\n",
            "13/13 [==============================] - 0s 5ms/step\n",
            "Fold score (accuracy): 0.6425\n",
            "Fold #2\n",
            "13/13 [==============================] - 0s 2ms/step\n",
            "Fold score (accuracy): 0.685\n",
            "Fold #3\n",
            "13/13 [==============================] - 0s 2ms/step\n",
            "Fold score (accuracy): 0.7075\n",
            "Fold #4\n",
            "13/13 [==============================] - 0s 2ms/step\n",
            "Fold score (accuracy): 0.645\n",
            "Fold #5\n",
            "13/13 [==============================] - 0s 2ms/step\n",
            "Fold score (accuracy): 0.6825\n",
            "Final score (accuracy): 0.6725\n"
          ]
        }
      ]
    },
    {
      "cell_type": "code",
      "source": [
        "import pandas as pd\n",
        "from scipy.stats import zscore\n",
        "from sklearn.model_selection import train_test_split\n",
        "\n",
        "# Read the data set\n",
        "df = pd.read_csv(\n",
        "    \"https://data.heatonresearch.com/data/t81-558/jh-simple-dataset.csv\",\n",
        "    na_values=['NA','?'])\n",
        "\n",
        "# Generate dummies for job\n",
        "df = pd.concat([df,pd.get_dummies(df['job'],prefix=\"job\")],axis=1)\n",
        "df.drop('job', axis=1, inplace=True)\n",
        "\n",
        "# Generate dummies for area\n",
        "df = pd.concat([df,pd.get_dummies(df['area'],prefix=\"area\")],axis=1)\n",
        "df.drop('area', axis=1, inplace=True)\n",
        "\n",
        "# Generate dummies for product\n",
        "df = pd.concat([df,pd.get_dummies(df['product'],prefix=\"product\")],axis=1)\n",
        "df.drop('product', axis=1, inplace=True)\n",
        "\n",
        "# Missing values for income\n",
        "med = df['income'].median()\n",
        "df['income'] = df['income'].fillna(med)\n",
        "\n",
        "# Standardize ranges\n",
        "df['income'] = zscore(df['income'])\n",
        "df['aspect'] = zscore(df['aspect'])\n",
        "df['save_rate'] = zscore(df['save_rate'])\n",
        "df['subscriptions'] = zscore(df['subscriptions'])\n",
        "\n",
        "# Convert to numpy - Classification\n",
        "x_columns = df.columns.drop('age').drop('id')\n",
        "x = df[x_columns].values\n",
        "y = df['age'].values"
      ],
      "metadata": {
        "id": "ESqsU4KaXRc_"
      },
      "execution_count": 23,
      "outputs": []
    },
    {
      "cell_type": "code",
      "source": [
        "from sklearn.model_selection import train_test_split\n",
        "import pandas as pd\n",
        "import os\n",
        "import numpy as np\n",
        "from sklearn import metrics\n",
        "from scipy.stats import zscore\n",
        "from sklearn.model_selection import KFold\n",
        "\n",
        "# Keep a 10% holdout\n",
        "x_main, x_holdout, y_main, y_holdout = train_test_split(\n",
        "    x, y, test_size=0.10)\n",
        "\n",
        "\n",
        "# Cross-validate\n",
        "kf = KFold(5)\n",
        "\n",
        "oos_y = []\n",
        "oos_pred = []\n",
        "fold = 0\n",
        "for train, test in kf.split(x_main):\n",
        "    fold+=1\n",
        "    print(f\"Fold #{fold}\")\n",
        "\n",
        "    x_train = x_main[train]\n",
        "    y_train = y_main[train]\n",
        "    x_test = x_main[test]\n",
        "    y_test = y_main[test]\n",
        "\n",
        "    model = Sequential()\n",
        "    model.add(Dense(20, input_dim=x.shape[1], activation='relu'))\n",
        "    model.add(Dense(5, activation='relu'))\n",
        "    model.add(Dense(1))\n",
        "    model.compile(loss='mean_squared_error', optimizer='adam')\n",
        "\n",
        "    model.fit(np.array(x_train).astype('float32'),np.array(y_train).astype('float32'),validation_data=(np.array(x_test).astype('float32'),np.array(y_test).astype('float32')),verbose=0,\n",
        "              epochs=EPOCHS)\n",
        "\n",
        "    pred = model.predict(np.array(x_test).astype('float32'))\n",
        "\n",
        "    oos_y.append(np.array(y_test).astype('float32'))\n",
        "    oos_pred.append(pred)\n",
        "\n",
        "    # Measure accuracy\n",
        "    score = np.sqrt(metrics.mean_squared_error(pred,np.array(y_test).astype('float32')))\n",
        "    print(f\"Fold score (RMSE): {score}\")\n",
        "\n",
        "\n",
        "# Build the oos prediction list and calculate the error.\n",
        "oos_y = np.concatenate(oos_y)\n",
        "oos_pred = np.concatenate(oos_pred)\n",
        "score = np.sqrt(metrics.mean_squared_error(oos_pred,oos_y))\n",
        "print()\n",
        "print(f\"Cross-validated score (RMSE): {score}\")\n",
        "\n",
        "# Write the cross-validated prediction (from the last neural network)\n",
        "holdout_pred = model.predict(np.array(x_holdout).astype('float32'))\n",
        "\n",
        "score = np.sqrt(metrics.mean_squared_error(holdout_pred,np.array(y_holdout).astype('float32')))\n",
        "print(f\"Holdout score (RMSE): {score}\")"
      ],
      "metadata": {
        "colab": {
          "base_uri": "https://localhost:8080/"
        },
        "id": "A1NT4Fc1XXXr",
        "outputId": "fc3bfab6-9808-436b-af2b-29028a08a56c"
      },
      "execution_count": 27,
      "outputs": [
        {
          "output_type": "stream",
          "name": "stdout",
          "text": [
            "Fold #1\n",
            "12/12 [==============================] - 0s 2ms/step\n",
            "Fold score (RMSE): 0.8327022790908813\n",
            "Fold #2\n",
            "12/12 [==============================] - 0s 4ms/step\n",
            "Fold score (RMSE): 0.45305413007736206\n",
            "Fold #3\n",
            "12/12 [==============================] - 0s 2ms/step\n",
            "Fold score (RMSE): 0.6139457821846008\n",
            "Fold #4\n",
            "12/12 [==============================] - 0s 2ms/step\n",
            "Fold score (RMSE): 0.6139118075370789\n",
            "Fold #5\n",
            "12/12 [==============================] - 0s 3ms/step\n",
            "Fold score (RMSE): 1.0050450563430786\n",
            "\n",
            "Cross-validated score (RMSE): 0.7297374606132507\n",
            "7/7 [==============================] - 0s 2ms/step\n",
            "Holdout score (RMSE): 0.6164969205856323\n"
          ]
        }
      ]
    }
  ]
}
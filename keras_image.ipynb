{
  "nbformat": 4,
  "nbformat_minor": 0,
  "metadata": {
    "colab": {
      "provenance": [],
      "authorship_tag": "ABX9TyMzkOGBPBv1t9E6YlxtRfAF",
      "include_colab_link": true
    },
    "kernelspec": {
      "name": "python3",
      "display_name": "Python 3"
    },
    "language_info": {
      "name": "python"
    }
  },
  "cells": [
    {
      "cell_type": "markdown",
      "metadata": {
        "id": "view-in-github",
        "colab_type": "text"
      },
      "source": [
        "<a href=\"https://colab.research.google.com/github/sarwar-ku/data_science/blob/main/keras_image.ipynb\" target=\"_parent\"><img src=\"https://colab.research.google.com/assets/colab-badge.svg\" alt=\"Open In Colab\"/></a>"
      ]
    },
    {
      "cell_type": "markdown",
      "source": [
        "Google CoLab Instructions\n",
        "The following code ensures that Google CoLab is running the correct version of TensorFlow."
      ],
      "metadata": {
        "id": "q500ag_3yyeJ"
      }
    },
    {
      "cell_type": "code",
      "execution_count": null,
      "metadata": {
        "id": "Y6y1jPPjyr71"
      },
      "outputs": [],
      "source": [
        "try:\n",
        "    %tensorflow_version 2.x\n",
        "    COLAB = True\n",
        "    print(\"Note: using Google CoLab\")\n",
        "except:\n",
        "    print(\"Note: not using Google CoLab\")\n",
        "    COLAB = False\n",
        "\n",
        "# Nicely formatted time string\n",
        "def hms_string(sec_elapsed):\n",
        "    h = int(sec_elapsed / (60 * 60))\n",
        "    m = int((sec_elapsed % (60 * 60)) / 60)\n",
        "    s = sec_elapsed % 60\n",
        "    return f\"{h}:{m:>02}:{s:>05.2f}\""
      ]
    },
    {
      "cell_type": "markdown",
      "source": [
        "Part 6.4: Inside Augmentation\n",
        "The ImageDataGenerator class provides many options for image augmentation. Deciding which augmentations to use can impact the effectiveness of your model. This part will visualize some of these augmentations that you might use to train your neural network. We begin by loading a sample image to augment."
      ],
      "metadata": {
        "id": "j0nynFSGy1TE"
      }
    },
    {
      "cell_type": "code",
      "source": [
        "import urllib.request\n",
        "import shutil\n",
        "from IPython.display import Image\n",
        "\n",
        "URL =  \"https://github.com/sarwar-ku/data_science/blob/main/landscape.jpg?raw=true\"\n",
        "LOCAL_IMG_FILE = \"/content/landscape.jpg\"\n",
        "\n",
        "with urllib.request.urlopen(URL) as response, \\\n",
        "  open(LOCAL_IMG_FILE, 'wb') as out_file:\n",
        "    shutil.copyfileobj(response, out_file)\n",
        "\n",
        "Image(filename=LOCAL_IMG_FILE)"
      ],
      "metadata": {
        "id": "Pg7MsJyQy34K"
      },
      "execution_count": null,
      "outputs": []
    },
    {
      "cell_type": "markdown",
      "source": [
        "Part 6.4: Inside Augmentation\n",
        "The ImageDataGenerator class provides many options for image augmentation. Deciding which augmentations to use can impact the effectiveness of your model. This part will visualize some of these augmentations that you might use to train your neural network. We begin by loading a sample image to augment."
      ],
      "metadata": {
        "id": "YsuT3MdS0iLc"
      }
    },
    {
      "cell_type": "code",
      "source": [
        "import urllib.request\n",
        "import shutil\n",
        "from IPython.display import Image\n",
        "\n",
        "URL =  \"https://github.com/sarwar-ku/data_science/blob/main/landscape.jpg?raw=true\"\n",
        "LOCAL_IMG_FILE = \"/content/landscape.jpg\"\n",
        "\n",
        "with urllib.request.urlopen(URL) as response, \\\n",
        "  open(LOCAL_IMG_FILE, 'wb') as out_file:\n",
        "    shutil.copyfileobj(response, out_file)\n",
        "\n",
        "Image(filename=LOCAL_IMG_FILE)"
      ],
      "metadata": {
        "id": "bd9-IXs50y5f"
      },
      "execution_count": null,
      "outputs": []
    },
    {
      "cell_type": "markdown",
      "source": [
        "Next, we introduce a simple utility function to visualize four images sampled from any generator"
      ],
      "metadata": {
        "id": "gvQe8Y3G07Fp"
      }
    },
    {
      "cell_type": "code",
      "source": [
        "from numpy import expand_dims\n",
        "from keras.preprocessing.image import load_img\n",
        "from keras.preprocessing.image import img_to_array\n",
        "from keras.preprocessing.image import ImageDataGenerator\n",
        "from matplotlib import pyplot\n",
        "import matplotlib.pyplot as plt\n",
        "import numpy as np\n",
        "import matplotlib\n",
        "\n",
        "def visualize_generator(img_file, gen):\n",
        "\t# Load the requested image\n",
        "  img = load_img(img_file)\n",
        "  data = img_to_array(img)\n",
        "  samples = expand_dims(data, 0)\n",
        "\n",
        "\t# Generat augumentations from the generator\n",
        "  it = gen.flow(samples, batch_size=1)\n",
        "  images = []\n",
        "  for i in range(4):\n",
        "    batch = it.next()\n",
        "    image = batch[0].astype('uint8')\n",
        "    images.append(image)\n",
        "\n",
        "  images = np.array(images)\n",
        "\n",
        "\t# Create a grid of 4 images from the generator\n",
        "  index, height, width, channels = images.shape\n",
        "  nrows = index//2\n",
        "\n",
        "  grid = (images.reshape(nrows, 2, height, width, channels)\n",
        "            .swapaxes(1,2)\n",
        "            .reshape(height*nrows, width*2, 3))\n",
        "\n",
        "  fig = plt.figure(figsize=(15., 15.))\n",
        "  plt.axis('off')\n",
        "  plt.imshow(grid)\n"
      ],
      "metadata": {
        "id": "cG2IQLCM0906"
      },
      "execution_count": null,
      "outputs": []
    },
    {
      "cell_type": "markdown",
      "source": [
        "We begin by flipping the image. Some images may not make sense to flip, such as this landscape. However, if you expect \"noise\" in your data where some images may be flipped, then this augmentation may be useful, even if it violates physical reality."
      ],
      "metadata": {
        "id": "95dbS1nB1Dx6"
      }
    },
    {
      "cell_type": "code",
      "source": [
        "visualize_generator(\n",
        "  LOCAL_IMG_FILE,\n",
        "  ImageDataGenerator(horizontal_flip=True, vertical_flip=True))"
      ],
      "metadata": {
        "id": "J06-VqBS1Gbh"
      },
      "execution_count": null,
      "outputs": []
    },
    {
      "cell_type": "markdown",
      "source": [
        "Next, we will try moving the image. Notice how part of the image is missing? There are various ways to fill in the missing data, as controlled by fill_mode. In this case, we simply use the nearest pixel to fill. It is also possible to rotate images."
      ],
      "metadata": {
        "id": "kQiou7xW1LVb"
      }
    },
    {
      "cell_type": "code",
      "source": [
        "visualize_generator(\n",
        "    LOCAL_IMG_FILE,\n",
        "    ImageDataGenerator(width_shift_range=[-200,200],\n",
        "        fill_mode='nearest'))"
      ],
      "metadata": {
        "id": "LrT76fd41OJR"
      },
      "execution_count": null,
      "outputs": []
    },
    {
      "cell_type": "markdown",
      "source": [
        "We can also adjust brightness."
      ],
      "metadata": {
        "id": "_PRZBW3T1U96"
      }
    },
    {
      "cell_type": "code",
      "source": [
        "visualize_generator(\n",
        "  LOCAL_IMG_FILE,\n",
        "  ImageDataGenerator(brightness_range=[0,1]))\n",
        "\n",
        "# brightness_range=None, shear_range=0.0"
      ],
      "metadata": {
        "id": "MgqAuOJn1YFr"
      },
      "execution_count": null,
      "outputs": []
    },
    {
      "cell_type": "markdown",
      "source": [
        "Shearing may not be appropriate for all image types, it stretches the image."
      ],
      "metadata": {
        "id": "NUSDqwVS1eAZ"
      }
    },
    {
      "cell_type": "code",
      "source": [
        "visualize_generator(\n",
        "  LOCAL_IMG_FILE,\n",
        "  ImageDataGenerator(shear_range=30))"
      ],
      "metadata": {
        "id": "xFX9ttgk1jxi"
      },
      "execution_count": null,
      "outputs": []
    },
    {
      "cell_type": "markdown",
      "source": [
        "It is also possible to rotate images."
      ],
      "metadata": {
        "id": "omxAJRfY1oOA"
      }
    },
    {
      "cell_type": "code",
      "source": [
        "visualize_generator(\n",
        "  LOCAL_IMG_FILE,\n",
        "  ImageDataGenerator(rotation_range=30))"
      ],
      "metadata": {
        "id": "wBJ84Ghu1rEA"
      },
      "execution_count": null,
      "outputs": []
    },
    {
      "cell_type": "markdown",
      "source": [],
      "metadata": {
        "id": "P1-Id9UK1w3h"
      }
    }
  ]
}